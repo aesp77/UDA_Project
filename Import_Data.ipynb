{
 "cells": [
  {
   "cell_type": "markdown",
   "metadata": {},
   "source": [
    "# Financial Data Visualization with `yfinance` and `mplfinance`\n",
    "This script facilitates fetching, analyzing, and visualizing stock market data. It employs:\n",
    "1. `yfinance` for downloading historical financial data.\n",
    "2. `mplfinance` for candlestick chart visualizations.\n",
    "3. Widgets for interactive user inputs to select stock symbols and periods."
   ]
  },
  {
   "cell_type": "code",
   "execution_count": 6,
   "metadata": {},
   "outputs": [],
   "source": [
    "import yfinance as yf\n",
    "import pandas as pd\n",
    "import mplfinance as mpf\n",
    "import matplotlib.pyplot as plt\n",
    "from ipywidgets import Dropdown, VBox, Output\n",
    "from IPython.display import display\n",
    "import os\n"
   ]
  },
  {
   "cell_type": "code",
   "execution_count": 7,
   "metadata": {},
   "outputs": [],
   "source": [
    "# List of tickers for indices and macro ETFs\n",
    "tickers = [\n",
    "    \"^GSPC\",  # S&P 500 Index\n",
    "    \"^DJI\",   # Dow Jones Industrial Average\n",
    "    \"^IXIC\",  # Nasdaq Composite\n",
    "    \"^FTSE\",  # FTSE 100\n",
    "    \"GLD\",    # Gold ETF\n",
    "    \"USO\",    # Oil ETF\n",
    "    \"TLT\",    # 20+ Year Treasury Bond ETF\n",
    "    \"SPY\",    # S&P 500 ETF\n",
    "    \"QQQ\",    # Nasdaq-100 ETF\n",
    "    \"IWM\"     # Russell 2000 ETF\n",
    "]\n",
    "\n",
    "# historical data\n",
    "start_date = \"2014-01-01\"\n",
    "end_date = \"2024-12-23\"\n",
    "\n"
   ]
  },
  {
   "cell_type": "markdown",
   "metadata": {},
   "source": [
    "Data Manioulation"
   ]
  },
  {
   "cell_type": "code",
   "execution_count": 8,
   "metadata": {},
   "outputs": [
    {
     "name": "stderr",
     "output_type": "stream",
     "text": [
      "[*********************100%***********************]  1 of 1 completed"
     ]
    },
    {
     "name": "stderr",
     "output_type": "stream",
     "text": [
      "\n",
      "[*********************100%***********************]  1 of 1 completed\n",
      "[*********************100%***********************]  1 of 1 completed\n",
      "[*********************100%***********************]  1 of 1 completed"
     ]
    },
    {
     "name": "stdout",
     "output_type": "stream",
     "text": [
      "Fetching data for ^GSPC...\n",
      "Fetching data for ^DJI...\n",
      "Fetching data for ^IXIC...\n",
      "Fetching data for ^FTSE...\n",
      "Fetching data for GLD...\n"
     ]
    },
    {
     "name": "stderr",
     "output_type": "stream",
     "text": [
      "\n",
      "[*********************100%***********************]  1 of 1 completed\n",
      "[*********************100%***********************]  1 of 1 completed\n",
      "[*********************100%***********************]  1 of 1 completed"
     ]
    },
    {
     "name": "stdout",
     "output_type": "stream",
     "text": [
      "Fetching data for USO...\n",
      "Fetching data for TLT...\n",
      "Fetching data for SPY...\n"
     ]
    },
    {
     "name": "stderr",
     "output_type": "stream",
     "text": [
      "\n",
      "[*********************100%***********************]  1 of 1 completed\n",
      "[*********************100%***********************]  1 of 1 completed\n"
     ]
    },
    {
     "name": "stdout",
     "output_type": "stream",
     "text": [
      "Fetching data for QQQ...\n",
      "Fetching data for IWM...\n"
     ]
    },
    {
     "name": "stderr",
     "output_type": "stream",
     "text": [
      "[*********************100%***********************]  1 of 1 completed\n"
     ]
    },
    {
     "name": "stdout",
     "output_type": "stream",
     "text": [
      "(2823, 41)\n",
      "         Date  ('Open', '^GSPC')_^GSPC  ('High', '^GSPC')_^GSPC  \\\n",
      "0  2014-01-02              1845.859985              1845.859985   \n",
      "1  2014-01-03              1833.209961              1838.239990   \n",
      "2  2014-01-06              1832.310059              1837.160034   \n",
      "3  2014-01-07              1828.709961              1840.099976   \n",
      "4  2014-01-08              1837.900024              1840.020020   \n",
      "5  2014-01-09              1839.000000              1843.229980   \n",
      "6  2014-01-10              1840.060059              1843.150024   \n",
      "7  2014-01-13              1841.260010              1843.449951   \n",
      "8  2014-01-14              1821.359985              1839.260010   \n",
      "9  2014-01-15              1840.520020              1850.839966   \n",
      "10 2014-01-16              1847.989990              1847.989990   \n",
      "11 2014-01-17              1844.229980              1846.040039   \n",
      "12 2014-01-20                      NaN                      NaN   \n",
      "13 2014-01-21              1841.050049              1849.310059   \n",
      "14 2014-01-22              1844.709961              1846.869995   \n",
      "15 2014-01-23              1842.290039              1842.290039   \n",
      "16 2014-01-24              1826.959961              1826.959961   \n",
      "17 2014-01-27              1791.030029              1795.979980   \n",
      "18 2014-01-28              1783.000000              1793.869995   \n",
      "19 2014-01-29              1790.150024              1790.150024   \n",
      "\n",
      "    ('Low', '^GSPC')_^GSPC  ('Close', '^GSPC')_^GSPC  ('Open', '^DJI')_^DJI  \\\n",
      "0              1827.739990               1831.979980           16572.169922   \n",
      "1              1829.130005               1831.369995           16456.890625   \n",
      "2              1823.729980               1826.770020           16474.039062   \n",
      "3              1828.709961               1837.880005           16429.019531   \n",
      "4              1831.400024               1837.489990           16527.660156   \n",
      "5              1830.380005               1838.130005           16471.410156   \n",
      "6              1832.430054               1842.369995           16453.619141   \n",
      "7              1815.520020               1819.199951           16434.029297   \n",
      "8              1821.359985               1838.880005           16261.990234   \n",
      "9              1840.520020               1848.380005           16378.030273   \n",
      "10             1840.300049               1845.890015           16477.699219   \n",
      "11             1835.229980               1838.699951           16408.019531   \n",
      "12                     NaN                       NaN                    NaN   \n",
      "13             1832.380005               1843.800049           16459.269531   \n",
      "14             1840.880005               1844.859985           16420.480469   \n",
      "15             1820.060059               1828.459961           16371.990234   \n",
      "16             1790.290039               1790.290039           16203.290039   \n",
      "17             1772.880005               1781.560059           15879.049805   \n",
      "18             1779.489990               1792.500000           15840.839844   \n",
      "19             1770.449951               1774.199951           15927.080078   \n",
      "\n",
      "    ('High', '^DJI')_^DJI  ('Low', '^DJI')_^DJI  ('Close', '^DJI')_^DJI  \\\n",
      "0            16573.070312          16416.490234            16441.349609   \n",
      "1            16518.740234          16439.300781            16469.990234   \n",
      "2            16532.990234          16405.519531            16425.099609   \n",
      "3            16562.320312          16429.019531            16530.939453   \n",
      "4            16528.880859          16416.689453            16462.740234   \n",
      "5            16525.349609          16378.610352            16444.759766   \n",
      "6            16487.650391          16379.019531            16437.050781   \n",
      "7            16453.130859          16240.599609            16257.940430   \n",
      "8            16373.919922          16260.830078            16373.860352   \n",
      "9            16505.279297          16376.780273            16481.939453   \n",
      "10           16477.699219          16375.559570            16417.009766   \n",
      "11           16495.259766          16378.799805            16458.560547   \n",
      "12                    NaN                   NaN                     NaN   \n",
      "13           16520.599609          16316.250000            16414.439453   \n",
      "14           16453.490234          16332.980469            16373.339844   \n",
      "15           16372.959961          16140.580078            16197.349609   \n",
      "16           16203.290039          15879.110352            15879.110352   \n",
      "17           15942.769531          15783.549805            15837.879883   \n",
      "18           15945.889648          15840.839844            15928.559570   \n",
      "19           15927.080078          15708.980469            15738.790039   \n",
      "\n",
      "    ('Open', '^IXIC')_^IXIC  ...  ('Low', 'SPY')_SPY  ('Close', 'SPY')_SPY  \\\n",
      "0               4160.029785  ...          150.373011            150.735596   \n",
      "1               4148.560059  ...          150.496597            150.710846   \n",
      "2               4137.029785  ...          150.043406            150.274139   \n",
      "3               4128.569824  ...          150.760366            151.197113   \n",
      "4               4154.279785  ...          150.710915            151.230072   \n",
      "5               4179.040039  ...          150.636733            151.328934   \n",
      "6               4168.939941  ...          150.809784            151.740967   \n",
      "7               4167.410156  ...          149.433653            149.722076   \n",
      "8               4129.600098  ...          149.936282            151.353653   \n",
      "9               4196.529785  ...          151.386602            152.169449   \n",
      "10              4209.589844  ...          151.485507            151.971695   \n",
      "11              4207.819824  ...          151.065244            151.328934   \n",
      "12                      NaN  ...                 NaN                   NaN   \n",
      "13              4222.979980  ...          150.842725            151.773895   \n",
      "14              4234.580078  ...          151.551423            151.872803   \n",
      "15              4224.359863  ...          149.829160            150.628479   \n",
      "16              4194.970215  ...          147.365278            147.414719   \n",
      "17              4132.220215  ...          145.956093            146.689499   \n",
      "18              4067.860107  ...          146.780159            147.563019   \n",
      "19              4060.610107  ...          145.758340            146.145645   \n",
      "\n",
      "    ('Open', 'QQQ')_QQQ  ('High', 'QQQ')_QQQ  ('Low', 'QQQ')_QQQ  \\\n",
      "0             79.799890            79.827233           79.316801   \n",
      "1             79.544688            79.617608           78.952232   \n",
      "2             78.988678            79.079824           78.387099   \n",
      "3             79.043374            79.526456           78.897534   \n",
      "4             79.426174            79.799883           79.252991   \n",
      "5             79.872813            79.881929           79.043371   \n",
      "6             79.508203            79.663153           78.915741   \n",
      "7             79.462629            79.736075           78.095413   \n",
      "8             78.660551            79.954848           78.660551   \n",
      "9             80.237381            80.702237           80.155351   \n",
      "10            80.483506            80.674916           80.355900   \n",
      "11            80.310328            80.547314           79.909276   \n",
      "12                  NaN                  NaN                 NaN   \n",
      "13            80.611124            80.747841           80.036889   \n",
      "14            80.920990            81.121516           80.684004   \n",
      "15            80.674926            80.684036           80.082464   \n",
      "16            80.255633            80.374123           79.034249   \n",
      "17            79.061605            79.198328           77.703505   \n",
      "18            77.931358            78.332410           77.758175   \n",
      "19            77.575893            78.150122           77.256877   \n",
      "\n",
      "    ('Close', 'QQQ')_QQQ  ('Open', 'IWM')_IWM  ('High', 'IWM')_IWM  \\\n",
      "0              79.544670            99.476825            99.502761   \n",
      "1              78.970459            98.992814            99.312622   \n",
      "2              78.678772            99.589198            99.632411   \n",
      "3              79.407967            98.698930            99.537341   \n",
      "4              79.581123            99.208866            99.468171   \n",
      "5              79.316811            99.615110            99.736117   \n",
      "6              79.572006            99.329908            99.857156   \n",
      "7              78.396202            99.658313            99.822533   \n",
      "8              79.891045            98.914994            99.839837   \n",
      "9              80.547287            99.952213           100.514035   \n",
      "10             80.556419           100.306576           100.591802   \n",
      "11             80.100685           100.531320           100.635043   \n",
      "12                   NaN                  NaN                  NaN   \n",
      "13             80.711388           100.894371           101.015378   \n",
      "14             80.920990           100.859758           101.447509   \n",
      "15             80.647583           100.885716           100.937574   \n",
      "16             79.061592            99.995428           100.038641   \n",
      "17             78.295967            98.344569            98.396427   \n",
      "18             78.250374            96.745503            97.661701   \n",
      "19             77.411827            96.702332            97.307374   \n",
      "\n",
      "    ('Low', 'IWM')_IWM  ('Close', 'IWM')_IWM  \n",
      "0            98.223535             98.629776  \n",
      "1            98.629793             99.131111  \n",
      "2            98.284043             98.327263  \n",
      "3            98.629782             99.148384  \n",
      "4            98.595186             99.278015  \n",
      "5            98.672983             99.303947  \n",
      "6            98.880455             99.848511  \n",
      "7            97.895060             98.482811  \n",
      "8            98.690264             99.692894  \n",
      "9            99.883064            100.436241  \n",
      "10          100.116420            100.557228  \n",
      "11           99.995434            100.202873  \n",
      "12                 NaN                   NaN  \n",
      "13          100.073245            100.799294  \n",
      "14          100.695532            101.309212  \n",
      "15           99.969518            100.626411  \n",
      "16           97.860509             98.059303  \n",
      "17           96.071358             96.624535  \n",
      "18           96.624496             97.644417  \n",
      "19           95.959000             96.235588  \n",
      "\n",
      "[20 rows x 41 columns]\n",
      "Dataset saved to indices_etfs_dataset.csv\n"
     ]
    }
   ],
   "source": [
    "\n",
    "all_data = pd.DataFrame()\n",
    "\n",
    "\n",
    "for ticker in tickers:\n",
    "    print(f\"Fetching data for {ticker}...\")\n",
    "    data = yf.download(ticker, start=start_date, end=end_date)\n",
    "    data = data[['Open', 'High', 'Low', 'Close']]  # Keep only required columns\n",
    "    data.columns = [f\"{col}_{ticker}\" for col in data.columns]  # Rename columns with ticker\n",
    "    if all_data.empty:\n",
    "        all_data = data  \n",
    "    else:\n",
    "        all_data = all_data.join(data, how=\"outer\")  \n",
    "\n",
    "\n",
    "all_data.reset_index(inplace=True)\n",
    " \n",
    "print(all_data.shape)\n",
    "print(all_data.head(20))  \n",
    "all_data.to_csv(\"indices_etfs_dataset.csv\", index=False)\n",
    "\n",
    "print(\"Dataset saved to indices_etfs_dataset.csv\")\n"
   ]
  },
  {
   "cell_type": "markdown",
   "metadata": {},
   "source": [
    "EDAV the daatset "
   ]
  },
  {
   "cell_type": "code",
   "execution_count": 9,
   "metadata": {},
   "outputs": [
    {
     "name": "stdout",
     "output_type": "stream",
     "text": [
      "column headersIndex(['Date', '('Open', '^GSPC')_^GSPC', '('High', '^GSPC')_^GSPC',\n",
      "       '('Low', '^GSPC')_^GSPC', '('Close', '^GSPC')_^GSPC',\n",
      "       '('Open', '^DJI')_^DJI', '('High', '^DJI')_^DJI',\n",
      "       '('Low', '^DJI')_^DJI', '('Close', '^DJI')_^DJI',\n",
      "       '('Open', '^IXIC')_^IXIC', '('High', '^IXIC')_^IXIC',\n",
      "       '('Low', '^IXIC')_^IXIC', '('Close', '^IXIC')_^IXIC',\n",
      "       '('Open', '^FTSE')_^FTSE', '('High', '^FTSE')_^FTSE',\n",
      "       '('Low', '^FTSE')_^FTSE', '('Close', '^FTSE')_^FTSE',\n",
      "       '('Open', 'GLD')_GLD', '('High', 'GLD')_GLD', '('Low', 'GLD')_GLD',\n",
      "       '('Close', 'GLD')_GLD', '('Open', 'USO')_USO', '('High', 'USO')_USO',\n",
      "       '('Low', 'USO')_USO', '('Close', 'USO')_USO', '('Open', 'TLT')_TLT',\n",
      "       '('High', 'TLT')_TLT', '('Low', 'TLT')_TLT', '('Close', 'TLT')_TLT',\n",
      "       '('Open', 'SPY')_SPY', '('High', 'SPY')_SPY', '('Low', 'SPY')_SPY',\n",
      "       '('Close', 'SPY')_SPY', '('Open', 'QQQ')_QQQ', '('High', 'QQQ')_QQQ',\n",
      "       '('Low', 'QQQ')_QQQ', '('Close', 'QQQ')_QQQ', '('Open', 'IWM')_IWM',\n",
      "       '('High', 'IWM')_IWM', '('Low', 'IWM')_IWM', '('Close', 'IWM')_IWM'],\n",
      "      dtype='object')\n"
     ]
    }
   ],
   "source": [
    "print(\"column headers{}\".format(all_data.columns))"
   ]
  },
  {
   "cell_type": "code",
   "execution_count": null,
   "metadata": {},
   "outputs": [
    {
     "name": "stdout",
     "output_type": "stream",
     "text": [
      "Tickers identified: ['USO', 'SPY', '^IXIC', 'QQQ', 'TLT', 'IWM', '^GSPC', 'GLD', '^DJI', '^FTSE']\n",
      "Generating charts for 10 tickers...\n",
      "Creating chart for USO...\n"
     ]
    },
    {
     "name": "stderr",
     "output_type": "stream",
     "text": [
      "C:\\Users\\alessandro.esposito\\AppData\\Local\\Temp\\ipykernel_4752\\3492075650.py:38: SettingWithCopyWarning: \n",
      "A value is trying to be set on a copy of a slice from a DataFrame\n",
      "\n",
      "See the caveats in the documentation: https://pandas.pydata.org/pandas-docs/stable/user_guide/indexing.html#returning-a-view-versus-a-copy\n",
      "  ticker_data.dropna(inplace=True)\n",
      "C:\\Users\\alessandro.esposito\\AppData\\Local\\Temp\\ipykernel_4752\\3492075650.py:38: SettingWithCopyWarning: \n",
      "A value is trying to be set on a copy of a slice from a DataFrame\n",
      "\n",
      "See the caveats in the documentation: https://pandas.pydata.org/pandas-docs/stable/user_guide/indexing.html#returning-a-view-versus-a-copy\n",
      "  ticker_data.dropna(inplace=True)\n"
     ]
    },
    {
     "name": "stdout",
     "output_type": "stream",
     "text": [
      "Candlestick chart saved: charts/candlestick\\USO.png\n",
      "Creating chart for SPY...\n",
      "Candlestick chart saved: charts/candlestick\\SPY.png\n",
      "Creating chart for ^IXIC...\n",
      "Candlestick chart saved: charts/candlestick\\^IXIC.png\n",
      "Creating chart for QQQ...\n",
      "Candlestick chart saved: charts/candlestick\\QQQ.png\n",
      "Creating chart for TLT...\n"
     ]
    },
    {
     "name": "stderr",
     "output_type": "stream",
     "text": [
      "C:\\Users\\alessandro.esposito\\AppData\\Local\\Temp\\ipykernel_4752\\3492075650.py:38: SettingWithCopyWarning: \n",
      "A value is trying to be set on a copy of a slice from a DataFrame\n",
      "\n",
      "See the caveats in the documentation: https://pandas.pydata.org/pandas-docs/stable/user_guide/indexing.html#returning-a-view-versus-a-copy\n",
      "  ticker_data.dropna(inplace=True)\n",
      "C:\\Users\\alessandro.esposito\\AppData\\Local\\Temp\\ipykernel_4752\\3492075650.py:38: SettingWithCopyWarning: \n",
      "A value is trying to be set on a copy of a slice from a DataFrame\n",
      "\n",
      "See the caveats in the documentation: https://pandas.pydata.org/pandas-docs/stable/user_guide/indexing.html#returning-a-view-versus-a-copy\n",
      "  ticker_data.dropna(inplace=True)\n",
      "C:\\Users\\alessandro.esposito\\AppData\\Local\\Temp\\ipykernel_4752\\3492075650.py:38: SettingWithCopyWarning: \n",
      "A value is trying to be set on a copy of a slice from a DataFrame\n",
      "\n",
      "See the caveats in the documentation: https://pandas.pydata.org/pandas-docs/stable/user_guide/indexing.html#returning-a-view-versus-a-copy\n",
      "  ticker_data.dropna(inplace=True)\n"
     ]
    },
    {
     "name": "stdout",
     "output_type": "stream",
     "text": [
      "Candlestick chart saved: charts/candlestick\\TLT.png\n",
      "Creating chart for IWM...\n",
      "Candlestick chart saved: charts/candlestick\\IWM.png\n",
      "Creating chart for ^GSPC...\n",
      "Candlestick chart saved: charts/candlestick\\^GSPC.png\n",
      "Creating chart for GLD...\n"
     ]
    },
    {
     "name": "stderr",
     "output_type": "stream",
     "text": [
      "C:\\Users\\alessandro.esposito\\AppData\\Local\\Temp\\ipykernel_4752\\3492075650.py:38: SettingWithCopyWarning: \n",
      "A value is trying to be set on a copy of a slice from a DataFrame\n",
      "\n",
      "See the caveats in the documentation: https://pandas.pydata.org/pandas-docs/stable/user_guide/indexing.html#returning-a-view-versus-a-copy\n",
      "  ticker_data.dropna(inplace=True)\n",
      "C:\\Users\\alessandro.esposito\\AppData\\Local\\Temp\\ipykernel_4752\\3492075650.py:38: SettingWithCopyWarning: \n",
      "A value is trying to be set on a copy of a slice from a DataFrame\n",
      "\n",
      "See the caveats in the documentation: https://pandas.pydata.org/pandas-docs/stable/user_guide/indexing.html#returning-a-view-versus-a-copy\n",
      "  ticker_data.dropna(inplace=True)\n",
      "C:\\Users\\alessandro.esposito\\AppData\\Local\\Temp\\ipykernel_4752\\3492075650.py:38: SettingWithCopyWarning: \n",
      "A value is trying to be set on a copy of a slice from a DataFrame\n",
      "\n",
      "See the caveats in the documentation: https://pandas.pydata.org/pandas-docs/stable/user_guide/indexing.html#returning-a-view-versus-a-copy\n",
      "  ticker_data.dropna(inplace=True)\n"
     ]
    },
    {
     "name": "stdout",
     "output_type": "stream",
     "text": [
      "Candlestick chart saved: charts/candlestick\\GLD.png\n",
      "Creating chart for ^DJI...\n",
      "Candlestick chart saved: charts/candlestick\\^DJI.png\n",
      "Creating chart for ^FTSE...\n"
     ]
    },
    {
     "name": "stderr",
     "output_type": "stream",
     "text": [
      "C:\\Users\\alessandro.esposito\\AppData\\Local\\Temp\\ipykernel_4752\\3492075650.py:38: SettingWithCopyWarning: \n",
      "A value is trying to be set on a copy of a slice from a DataFrame\n",
      "\n",
      "See the caveats in the documentation: https://pandas.pydata.org/pandas-docs/stable/user_guide/indexing.html#returning-a-view-versus-a-copy\n",
      "  ticker_data.dropna(inplace=True)\n",
      "C:\\Users\\alessandro.esposito\\AppData\\Local\\Temp\\ipykernel_4752\\3492075650.py:38: SettingWithCopyWarning: \n",
      "A value is trying to be set on a copy of a slice from a DataFrame\n",
      "\n",
      "See the caveats in the documentation: https://pandas.pydata.org/pandas-docs/stable/user_guide/indexing.html#returning-a-view-versus-a-copy\n",
      "  ticker_data.dropna(inplace=True)\n"
     ]
    },
    {
     "name": "stdout",
     "output_type": "stream",
     "text": [
      "Candlestick chart saved: charts/candlestick\\^FTSE.png\n",
      "Candlestick charts generation completed!\n"
     ]
    }
   ],
   "source": [
    "\n",
    "\n",
    "data_file = \"indices_etfs_dataset.csv\"\n",
    "\n",
    "\n",
    "try:\n",
    "    df = pd.read_csv(data_file, low_memory=False)\n",
    "except FileNotFoundError:\n",
    "    raise FileNotFoundError(f\"The file '{data_file}' was not found. Please check the file path.\")\n",
    "\n",
    "\n",
    "if 'Date' not in df.columns:\n",
    "    raise ValueError(\"The dataset does not contain a 'Date' column.\")\n",
    "df['Date'] = pd.to_datetime(df['Date'], errors='coerce')  \n",
    "df.set_index('Date', inplace=True) \n",
    "\n",
    "\n",
    "tickers = list({col.split(\"_\")[-1] for col in df.columns if col.startswith(\"(\")})\n",
    "print(f\"Tickers identified: {tickers}\")\n",
    "\n",
    "\n",
    "charts_dir = \"charts/candlestick\"\n",
    "os.makedirs(charts_dir, exist_ok=True)\n",
    "\n",
    "# F generate candlestick charts for tamporary visualisaztion \n",
    "def generate_candlestick_charts(df, tickers):\n",
    "    print(f\"Generating charts for {len(tickers)} tickers...\")\n",
    "\n",
    "    for ticker in tickers:\n",
    "        print(f\"Creating chart for {ticker}...\")\n",
    "        \n",
    "       \n",
    "        columns = [col for col in df.columns if col.endswith(f\"_{ticker}\")]\n",
    "        ticker_data = df[columns]\n",
    "        \n",
    "        # Rename columns to standard OHLC format\n",
    "        ticker_data.columns = ['Open', 'High', 'Low', 'Close']\n",
    "        \n",
    "      \n",
    "        ticker_data.dropna(inplace=True)\n",
    "        \n",
    "        # defensive\n",
    "        if ticker_data.empty:\n",
    "            print(f\"No valid data available for {ticker}, skipping...\")\n",
    "            continue\n",
    "        \n",
    "        # Limit data for plotting\n",
    "        ticker_data = ticker_data.tail(500)  # Use the most recent 500 rows\n",
    "        \n",
    "        try:\n",
    "            # Generate candlestick chart\n",
    "            chart_path = os.path.join(charts_dir, f\"{ticker}.png\")\n",
    "            mpf.plot(\n",
    "                ticker_data,\n",
    "                type='candle',\n",
    "                style='yahoo',\n",
    "                title=f\"Candlestick Chart: {ticker}\",\n",
    "                savefig=chart_path\n",
    "            )\n",
    "            print(f\"Candlestick chart saved: {chart_path}\")\n",
    "        except Exception as e:\n",
    "            print(f\"Failed to generate candlestick chart for {ticker}: {e}\")\n",
    "\n",
    "\n",
    "generate_candlestick_charts(df, tickers)\n",
    "\n",
    "print(\"Candlestick charts generation completed!\")\n"
   ]
  },
  {
   "cell_type": "code",
   "execution_count": 11,
   "metadata": {},
   "outputs": [
    {
     "data": {
      "application/vnd.jupyter.widget-view+json": {
       "model_id": "f702f428f74546529cf82b48e81af489",
       "version_major": 2,
       "version_minor": 0
      },
      "text/plain": [
       "VBox(children=(Dropdown(description='Select Ticker:', layout=Layout(width='50%'), options=('USO', 'SPY', '^IXI…"
      ]
     },
     "metadata": {},
     "output_type": "display_data"
    }
   ],
   "source": [
    "# create a wideget to check data quality and visualize the data\n",
    "\n",
    "def interactive_candlestick_chart():\n",
    "    # Create dropdown menu for tickers\n",
    "    dropdown = Dropdown(\n",
    "        options=tickers,\n",
    "        description=\"Select Ticker:\",\n",
    "        style={'description_width': 'initial'},\n",
    "        layout={'width': '50%'}\n",
    "    )\n",
    "\n",
    "    \n",
    "    output = Output()\n",
    "\n",
    "    def update_chart(change):\n",
    "        output.clear_output()\n",
    "        with output:\n",
    "            selected_ticker = change['new']\n",
    "            print(f\"Generating chart for {selected_ticker}...\")\n",
    "\n",
    "         \n",
    "            columns = [col for col in df.columns if col.endswith(f\"_{selected_ticker}\")]\n",
    "            if len(columns) < 4:\n",
    "                print(f\"Insufficient data for {selected_ticker}. Required columns: Open, High, Low, Close.\")\n",
    "                return\n",
    "\n",
    "            # Rename columns to standard OHLC format\n",
    "            ticker_data = df[columns].copy()\n",
    "            ticker_data.columns = ['Open', 'High', 'Low', 'Close'][:len(columns)]\n",
    "            ticker_data.dropna(inplace=True)  # Drop rows with missing values\n",
    "            \n",
    "            # Plot chart if data is available\n",
    "            if not ticker_data.empty:\n",
    "                try:\n",
    "                    mpf.plot(\n",
    "                        ticker_data,\n",
    "                        type='candle',\n",
    "                        style='yahoo',\n",
    "                        title=f\"Candlestick Chart: {selected_ticker}\",\n",
    "                        datetime_format='%Y-%m-%d',\n",
    "                        volume=False\n",
    "                    )\n",
    "                    plt.show()\n",
    "                except Exception as e:\n",
    "                    print(f\"Error plotting chart for {selected_ticker}: {e}\")\n",
    "            else:\n",
    "                print(f\"No valid data available for {selected_ticker}.\")\n",
    "\n",
    " \n",
    "    dropdown.observe(update_chart, names='value')\n",
    "\n",
    "    display(VBox([dropdown, output]))\n",
    "    dropdown.value = tickers[0]  # Trigger the first chart by default\n",
    "\n",
    "interactive_candlestick_chart()\n"
   ]
  },
  {
   "cell_type": "code",
   "execution_count": null,
   "metadata": {},
   "outputs": [],
   "source": []
  }
 ],
 "metadata": {
  "kernelspec": {
   "display_name": "venv",
   "language": "python",
   "name": "python3"
  },
  "language_info": {
   "codemirror_mode": {
    "name": "ipython",
    "version": 3
   },
   "file_extension": ".py",
   "mimetype": "text/x-python",
   "name": "python",
   "nbconvert_exporter": "python",
   "pygments_lexer": "ipython3",
   "version": "3.9.0"
  }
 },
 "nbformat": 4,
 "nbformat_minor": 2
}
